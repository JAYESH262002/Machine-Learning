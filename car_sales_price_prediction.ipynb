{
 "cells": [
  {
   "cell_type": "markdown",
   "id": "969e7998",
   "metadata": {},
   "source": [
    "## <center><div class=\"alert alert-info\">Car-Sales-Price-Prediction</div></center>"
   ]
  },
  {
   "cell_type": "raw",
   "id": "c6cbc20b",
   "metadata": {},
   "source": [
    "Import The Required Libraries"
   ]
  },
  {
   "cell_type": "code",
   "execution_count": 1,
   "id": "3a0e014a",
   "metadata": {},
   "outputs": [],
   "source": [
    "import pandas as pd\n",
    "import numpy as np\n",
    "import matplotlib.pyplot as plt"
   ]
  },
  {
   "cell_type": "raw",
   "id": "bdd7b591",
   "metadata": {},
   "source": [
    "Import the data"
   ]
  },
  {
   "cell_type": "code",
   "execution_count": 2,
   "id": "21a90bc8",
   "metadata": {
    "scrolled": true
   },
   "outputs": [
    {
     "data": {
      "text/html": [
       "<div>\n",
       "<style scoped>\n",
       "    .dataframe tbody tr th:only-of-type {\n",
       "        vertical-align: middle;\n",
       "    }\n",
       "\n",
       "    .dataframe tbody tr th {\n",
       "        vertical-align: top;\n",
       "    }\n",
       "\n",
       "    .dataframe thead th {\n",
       "        text-align: right;\n",
       "    }\n",
       "</style>\n",
       "<table border=\"1\" class=\"dataframe\">\n",
       "  <thead>\n",
       "    <tr style=\"text-align: right;\">\n",
       "      <th></th>\n",
       "      <th>Make</th>\n",
       "      <th>Colour</th>\n",
       "      <th>Odometer (KM)</th>\n",
       "      <th>Doors</th>\n",
       "      <th>Price</th>\n",
       "    </tr>\n",
       "  </thead>\n",
       "  <tbody>\n",
       "    <tr>\n",
       "      <th>0</th>\n",
       "      <td>Honda</td>\n",
       "      <td>White</td>\n",
       "      <td>35431.0</td>\n",
       "      <td>4.0</td>\n",
       "      <td>15323.0</td>\n",
       "    </tr>\n",
       "    <tr>\n",
       "      <th>1</th>\n",
       "      <td>BMW</td>\n",
       "      <td>Blue</td>\n",
       "      <td>192714.0</td>\n",
       "      <td>5.0</td>\n",
       "      <td>19943.0</td>\n",
       "    </tr>\n",
       "    <tr>\n",
       "      <th>2</th>\n",
       "      <td>Honda</td>\n",
       "      <td>White</td>\n",
       "      <td>84714.0</td>\n",
       "      <td>4.0</td>\n",
       "      <td>28343.0</td>\n",
       "    </tr>\n",
       "    <tr>\n",
       "      <th>3</th>\n",
       "      <td>Toyota</td>\n",
       "      <td>White</td>\n",
       "      <td>154365.0</td>\n",
       "      <td>4.0</td>\n",
       "      <td>13434.0</td>\n",
       "    </tr>\n",
       "    <tr>\n",
       "      <th>4</th>\n",
       "      <td>Nissan</td>\n",
       "      <td>Blue</td>\n",
       "      <td>181577.0</td>\n",
       "      <td>3.0</td>\n",
       "      <td>14043.0</td>\n",
       "    </tr>\n",
       "  </tbody>\n",
       "</table>\n",
       "</div>"
      ],
      "text/plain": [
       "     Make Colour  Odometer (KM)  Doors    Price\n",
       "0   Honda  White        35431.0    4.0  15323.0\n",
       "1     BMW   Blue       192714.0    5.0  19943.0\n",
       "2   Honda  White        84714.0    4.0  28343.0\n",
       "3  Toyota  White       154365.0    4.0  13434.0\n",
       "4  Nissan   Blue       181577.0    3.0  14043.0"
      ]
     },
     "execution_count": 2,
     "metadata": {},
     "output_type": "execute_result"
    }
   ],
   "source": [
    "car_sales = pd.read_csv(\"data/car-sales-extended-missing-data.csv\")\n",
    "car_sales.head()"
   ]
  },
  {
   "cell_type": "raw",
   "id": "58dc4ac1",
   "metadata": {},
   "source": []
  },
  {
   "cell_type": "markdown",
   "id": "6de46c6a",
   "metadata": {},
   "source": [
    "Using `Pandas Profiling` for EDA purpose"
   ]
  },
  {
   "cell_type": "raw",
   "id": "c1f6e272",
   "metadata": {},
   "source": [
    "pip install pandas-profiling"
   ]
  },
  {
   "cell_type": "code",
   "execution_count": 3,
   "id": "c5147e36",
   "metadata": {
    "scrolled": true
   },
   "outputs": [
    {
     "data": {
      "application/vnd.jupyter.widget-view+json": {
       "model_id": "bdcc3cbd0a4a4439b9d5b2171acfb46f",
       "version_major": 2,
       "version_minor": 0
      },
      "text/plain": [
       "Summarize dataset:   0%|          | 0/5 [00:00<?, ?it/s]"
      ]
     },
     "metadata": {},
     "output_type": "display_data"
    },
    {
     "data": {
      "application/vnd.jupyter.widget-view+json": {
       "model_id": "823ac108c25b478c923163e39bf7a0bf",
       "version_major": 2,
       "version_minor": 0
      },
      "text/plain": [
       "Generate report structure:   0%|          | 0/1 [00:00<?, ?it/s]"
      ]
     },
     "metadata": {},
     "output_type": "display_data"
    },
    {
     "data": {
      "application/vnd.jupyter.widget-view+json": {
       "model_id": "",
       "version_major": 2,
       "version_minor": 0
      },
      "text/plain": [
       "Render widgets:   0%|          | 0/1 [00:00<?, ?it/s]"
      ]
     },
     "metadata": {},
     "output_type": "display_data"
    },
    {
     "data": {
      "application/vnd.jupyter.widget-view+json": {
       "model_id": "0ace559524db41089b93c7566330f9d5",
       "version_major": 2,
       "version_minor": 0
      },
      "text/plain": [
       "VBox(children=(Tab(children=(Tab(children=(GridBox(children=(VBox(children=(GridspecLayout(children=(HTML(valu…"
      ]
     },
     "metadata": {},
     "output_type": "display_data"
    }
   ],
   "source": [
    "from ydata_profiling import ProfileReport\n",
    "profile = ProfileReport(car_sales, title=\"Profiling Report\")\n",
    "profile.to_widgets()"
   ]
  },
  {
   "cell_type": "raw",
   "id": "13ca4ce6",
   "metadata": {},
   "source": []
  },
  {
   "cell_type": "raw",
   "id": "517a9372",
   "metadata": {},
   "source": [
    "Checking the data types"
   ]
  },
  {
   "cell_type": "code",
   "execution_count": 4,
   "id": "9d16a0a9",
   "metadata": {
    "scrolled": true
   },
   "outputs": [
    {
     "data": {
      "text/plain": [
       "Make              object\n",
       "Colour            object\n",
       "Odometer (KM)    float64\n",
       "Doors            float64\n",
       "Price            float64\n",
       "dtype: object"
      ]
     },
     "execution_count": 4,
     "metadata": {},
     "output_type": "execute_result"
    }
   ],
   "source": [
    "car_sales.dtypes"
   ]
  },
  {
   "cell_type": "raw",
   "id": "5eca2d17",
   "metadata": {},
   "source": [
    "Information on the data"
   ]
  },
  {
   "cell_type": "code",
   "execution_count": 5,
   "id": "e57ee7b7",
   "metadata": {},
   "outputs": [
    {
     "name": "stdout",
     "output_type": "stream",
     "text": [
      "<class 'pandas.core.frame.DataFrame'>\n",
      "RangeIndex: 1000 entries, 0 to 999\n",
      "Data columns (total 5 columns):\n",
      " #   Column         Non-Null Count  Dtype  \n",
      "---  ------         --------------  -----  \n",
      " 0   Make           951 non-null    object \n",
      " 1   Colour         950 non-null    object \n",
      " 2   Odometer (KM)  950 non-null    float64\n",
      " 3   Doors          950 non-null    float64\n",
      " 4   Price          950 non-null    float64\n",
      "dtypes: float64(3), object(2)\n",
      "memory usage: 39.2+ KB\n"
     ]
    }
   ],
   "source": [
    "car_sales.info()"
   ]
  },
  {
   "cell_type": "code",
   "execution_count": 6,
   "id": "6f237a38",
   "metadata": {},
   "outputs": [
    {
     "data": {
      "text/plain": [
       "Make             49\n",
       "Colour           50\n",
       "Odometer (KM)    50\n",
       "Doors            50\n",
       "Price            50\n",
       "dtype: int64"
      ]
     },
     "execution_count": 6,
     "metadata": {},
     "output_type": "execute_result"
    }
   ],
   "source": [
    "car_sales.isna().sum()"
   ]
  },
  {
   "cell_type": "markdown",
   "id": "9ac9d60c",
   "metadata": {},
   "source": [
    "Our data contained some null value, lets drop the data where Price Column is missing and fill the rest of the data"
   ]
  },
  {
   "cell_type": "code",
   "execution_count": 7,
   "id": "0843ea6c",
   "metadata": {},
   "outputs": [],
   "source": [
    "car_sales.dropna(subset=\"Price\", inplace=True)"
   ]
  },
  {
   "cell_type": "code",
   "execution_count": 8,
   "id": "dc67ff88",
   "metadata": {},
   "outputs": [
    {
     "data": {
      "text/plain": [
       "Make             47\n",
       "Colour           46\n",
       "Odometer (KM)    48\n",
       "Doors            47\n",
       "Price             0\n",
       "dtype: int64"
      ]
     },
     "execution_count": 8,
     "metadata": {},
     "output_type": "execute_result"
    }
   ],
   "source": [
    "car_sales.isna().sum()"
   ]
  },
  {
   "cell_type": "markdown",
   "id": "68fc27c7",
   "metadata": {},
   "source": [
    "Here we have drop the value where the price column was missing, lets fill the rest of the data"
   ]
  },
  {
   "cell_type": "code",
   "execution_count": 9,
   "id": "50afb78b",
   "metadata": {},
   "outputs": [],
   "source": [
    "# Prepare the data\n",
    "x = car_sales.drop(\"Price\", axis=1) # Feature (X)\n",
    "y = car_sales[\"Price\"]"
   ]
  },
  {
   "cell_type": "code",
   "execution_count": 10,
   "id": "1ea401b0",
   "metadata": {},
   "outputs": [
    {
     "data": {
      "text/plain": [
       "array([['Honda', 'White', 4.0, 35431.0],\n",
       "       ['BMW', 'Blue', 5.0, 192714.0],\n",
       "       ['Honda', 'White', 4.0, 84714.0],\n",
       "       ...,\n",
       "       ['Nissan', 'Blue', 4.0, 66604.0],\n",
       "       ['Honda', 'White', 4.0, 215883.0],\n",
       "       ['Toyota', 'Blue', 4.0, 248360.0]], dtype=object)"
      ]
     },
     "execution_count": 10,
     "metadata": {},
     "output_type": "execute_result"
    }
   ],
   "source": [
    "# Fill missing values with Scikit-Learn\n",
    "from sklearn.impute import SimpleImputer\n",
    "from sklearn.compose import ColumnTransformer\n",
    "\n",
    "# Define Columns\n",
    "categorical_feature = [\"Make\", \"Colour\"]\n",
    "door_feature        = [\"Doors\"         ]\n",
    "numerical_feature   = [\"Odometer (KM)\" ]\n",
    "\n",
    "# FIll categorical value with 'missing' & numerical value with mean\n",
    "categorical_imputer = SimpleImputer(strategy=\"constant\", fill_value=\"missing\")\n",
    "door_imputer        = SimpleImputer(strategy=\"constant\", fill_value=4) # here 4 is mode. np.mode(car_sales[\"Doors\"])\n",
    "numerical_imputer   = SimpleImputer(strategy=\"mean\")\n",
    "\n",
    "# Create an imputer (something that fills missing data)\n",
    "processing = ColumnTransformer([(\"categorical_process_1\",categorical_imputer, categorical_feature),\n",
    "                                (\"door_imputer_1\",door_imputer, door_feature),\n",
    "                                (\"numerical_imputer_1\", numerical_imputer, numerical_feature)],\n",
    "                              remainder=\"passthrough\")\n",
    "\n",
    "# Transform the data\n",
    "filled_data_x = processing.fit_transform(x)\n",
    "filled_data_x"
   ]
  },
  {
   "cell_type": "raw",
   "id": "81a4b739",
   "metadata": {},
   "source": [
    "# Filling missing value with Pandas\n",
    "car_sales[\"Make\"].fillna(\"Missing\", inplace = True)\n",
    "car_sales[\"Colour\"].fillna(\"Missing\", inplace = True)\n",
    "car_sales[\"Odometer (KM)\"].fillna(np.mean(car_sales[\"Odometer (KM)\"]), inplace = True)\n",
    "car_sales[\"Doors\"].fillna(4, inplace=True)"
   ]
  },
  {
   "cell_type": "code",
   "execution_count": 11,
   "id": "b518522d",
   "metadata": {},
   "outputs": [
    {
     "data": {
      "text/plain": [
       "Make             47\n",
       "Colour           46\n",
       "Odometer (KM)    48\n",
       "Doors            47\n",
       "Price             0\n",
       "dtype: int64"
      ]
     },
     "execution_count": 11,
     "metadata": {},
     "output_type": "execute_result"
    }
   ],
   "source": [
    "car_sales.isna().sum()"
   ]
  },
  {
   "cell_type": "code",
   "execution_count": 12,
   "id": "dc9e5c60",
   "metadata": {},
   "outputs": [
    {
     "data": {
      "text/html": [
       "<div>\n",
       "<style scoped>\n",
       "    .dataframe tbody tr th:only-of-type {\n",
       "        vertical-align: middle;\n",
       "    }\n",
       "\n",
       "    .dataframe tbody tr th {\n",
       "        vertical-align: top;\n",
       "    }\n",
       "\n",
       "    .dataframe thead th {\n",
       "        text-align: right;\n",
       "    }\n",
       "</style>\n",
       "<table border=\"1\" class=\"dataframe\">\n",
       "  <thead>\n",
       "    <tr style=\"text-align: right;\">\n",
       "      <th></th>\n",
       "      <th>Make</th>\n",
       "      <th>Colour</th>\n",
       "      <th>Doors</th>\n",
       "      <th>Odometer (KM)</th>\n",
       "    </tr>\n",
       "  </thead>\n",
       "  <tbody>\n",
       "    <tr>\n",
       "      <th>0</th>\n",
       "      <td>Honda</td>\n",
       "      <td>White</td>\n",
       "      <td>4.0</td>\n",
       "      <td>35431.0</td>\n",
       "    </tr>\n",
       "    <tr>\n",
       "      <th>1</th>\n",
       "      <td>BMW</td>\n",
       "      <td>Blue</td>\n",
       "      <td>5.0</td>\n",
       "      <td>192714.0</td>\n",
       "    </tr>\n",
       "    <tr>\n",
       "      <th>2</th>\n",
       "      <td>Honda</td>\n",
       "      <td>White</td>\n",
       "      <td>4.0</td>\n",
       "      <td>84714.0</td>\n",
       "    </tr>\n",
       "    <tr>\n",
       "      <th>3</th>\n",
       "      <td>Toyota</td>\n",
       "      <td>White</td>\n",
       "      <td>4.0</td>\n",
       "      <td>154365.0</td>\n",
       "    </tr>\n",
       "    <tr>\n",
       "      <th>4</th>\n",
       "      <td>Nissan</td>\n",
       "      <td>Blue</td>\n",
       "      <td>3.0</td>\n",
       "      <td>181577.0</td>\n",
       "    </tr>\n",
       "    <tr>\n",
       "      <th>...</th>\n",
       "      <td>...</td>\n",
       "      <td>...</td>\n",
       "      <td>...</td>\n",
       "      <td>...</td>\n",
       "    </tr>\n",
       "    <tr>\n",
       "      <th>945</th>\n",
       "      <td>Toyota</td>\n",
       "      <td>Black</td>\n",
       "      <td>4.0</td>\n",
       "      <td>35820.0</td>\n",
       "    </tr>\n",
       "    <tr>\n",
       "      <th>946</th>\n",
       "      <td>missing</td>\n",
       "      <td>White</td>\n",
       "      <td>3.0</td>\n",
       "      <td>155144.0</td>\n",
       "    </tr>\n",
       "    <tr>\n",
       "      <th>947</th>\n",
       "      <td>Nissan</td>\n",
       "      <td>Blue</td>\n",
       "      <td>4.0</td>\n",
       "      <td>66604.0</td>\n",
       "    </tr>\n",
       "    <tr>\n",
       "      <th>948</th>\n",
       "      <td>Honda</td>\n",
       "      <td>White</td>\n",
       "      <td>4.0</td>\n",
       "      <td>215883.0</td>\n",
       "    </tr>\n",
       "    <tr>\n",
       "      <th>949</th>\n",
       "      <td>Toyota</td>\n",
       "      <td>Blue</td>\n",
       "      <td>4.0</td>\n",
       "      <td>248360.0</td>\n",
       "    </tr>\n",
       "  </tbody>\n",
       "</table>\n",
       "<p>950 rows × 4 columns</p>\n",
       "</div>"
      ],
      "text/plain": [
       "        Make Colour Doors Odometer (KM)\n",
       "0      Honda  White   4.0       35431.0\n",
       "1        BMW   Blue   5.0      192714.0\n",
       "2      Honda  White   4.0       84714.0\n",
       "3     Toyota  White   4.0      154365.0\n",
       "4     Nissan   Blue   3.0      181577.0\n",
       "..       ...    ...   ...           ...\n",
       "945   Toyota  Black   4.0       35820.0\n",
       "946  missing  White   3.0      155144.0\n",
       "947   Nissan   Blue   4.0       66604.0\n",
       "948    Honda  White   4.0      215883.0\n",
       "949   Toyota   Blue   4.0      248360.0\n",
       "\n",
       "[950 rows x 4 columns]"
      ]
     },
     "execution_count": 12,
     "metadata": {},
     "output_type": "execute_result"
    }
   ],
   "source": [
    "filled_data_x = pd.DataFrame(filled_data_x, columns=[\"Make\", \"Colour\", \"Doors\", \"Odometer (KM)\"])\n",
    "filled_data_x"
   ]
  },
  {
   "cell_type": "code",
   "execution_count": 13,
   "id": "699fb4d3",
   "metadata": {},
   "outputs": [
    {
     "data": {
      "text/plain": [
       "<950x15 sparse matrix of type '<class 'numpy.float64'>'\n",
       "\twith 3800 stored elements in Compressed Sparse Row format>"
      ]
     },
     "execution_count": 13,
     "metadata": {},
     "output_type": "execute_result"
    }
   ],
   "source": [
    "# now convert the categorical data into numerical data\n",
    "from sklearn.preprocessing import OneHotEncoder\n",
    "ohe_model = OneHotEncoder()\n",
    "\n",
    "from sklearn.compose import ColumnTransformer\n",
    "\n",
    "# Cetegorical value\n",
    "categorical_value = [\"Make\", \"Colour\", \"Doors\"]\n",
    "\n",
    "# Process\n",
    "process = ColumnTransformer([(\"process1\", ohe_model, categorical_value)],\n",
    "                              remainder=\"passthrough\")\n",
    "\n",
    "# Transformed data\n",
    "transformed_filled_data_x = process.fit_transform(filled_data_x)\n",
    "transformed_filled_data_x"
   ]
  },
  {
   "cell_type": "raw",
   "id": "b05ac7d2",
   "metadata": {},
   "source": [
    "# Converting the categorical data into numerical data using Pandas\n",
    "dummies = pd.get_dummies(car_sales[[\"Make\", \"Colour\", \"Doors\"]])\n",
    "dummies"
   ]
  },
  {
   "cell_type": "code",
   "execution_count": 14,
   "id": "b0cf8fcb",
   "metadata": {},
   "outputs": [],
   "source": [
    "# Predicting the value\n",
    "from sklearn.ensemble import RandomForestRegressor\n",
    "from sklearn.model_selection import train_test_split\n",
    "model = RandomForestRegressor(n_estimators=100)\n",
    "# Splitting the data into test and train set\n",
    "x_train, x_test, y_train, y_test = train_test_split(transformed_filled_data_x, y, test_size=0.25)"
   ]
  },
  {
   "cell_type": "code",
   "execution_count": 15,
   "id": "3c95b343",
   "metadata": {},
   "outputs": [
    {
     "data": {
      "text/plain": [
       "RandomForestRegressor()"
      ]
     },
     "execution_count": 15,
     "metadata": {},
     "output_type": "execute_result"
    }
   ],
   "source": [
    "# Finding the pattern inside the data\n",
    "model.fit(x_train, y_train)"
   ]
  },
  {
   "cell_type": "code",
   "execution_count": 16,
   "id": "8fdf5088",
   "metadata": {},
   "outputs": [
    {
     "data": {
      "text/plain": [
       "0.2607075779623299"
      ]
     },
     "execution_count": 16,
     "metadata": {},
     "output_type": "execute_result"
    }
   ],
   "source": [
    "# Score\n",
    "model.score(x_test, y_test)"
   ]
  },
  {
   "cell_type": "code",
   "execution_count": 17,
   "id": "4485f4d9",
   "metadata": {},
   "outputs": [
    {
     "data": {
      "text/plain": [
       "array([ 9899.73      ,  9296.135     , 12856.19      , 12553.14      ,\n",
       "       15539.16      , 14291.65      , 18634.43      , 14152.84      ,\n",
       "       17795.41      , 15037.72341017, 11598.97186508, 12328.74      ,\n",
       "       13232.73375   , 15410.83      , 12757.26      , 11841.12      ,\n",
       "       16792.013     , 18761.59      , 14088.58      , 24790.36      ,\n",
       "       12323.8       , 18613.61      , 30425.56      , 16253.28      ,\n",
       "        8366.51      , 11395.775     , 26362.        , 14014.01      ,\n",
       "       18142.45831566, 17885.61116378, 25521.72      ,  7337.04      ,\n",
       "       13547.64      , 18126.72      , 43568.52      , 21348.74      ,\n",
       "       23553.59      , 14878.19      , 16966.13      , 10001.20666667,\n",
       "       13417.7995    , 12875.08017857, 24570.02      , 20030.26628571,\n",
       "       26441.75      , 18745.73      , 20406.2       , 19147.23      ,\n",
       "       13817.55      ,  8552.14      , 15249.34      , 13417.7995    ,\n",
       "       13363.59      , 19152.66      , 11890.52      ,  7713.11375   ,\n",
       "        7979.71      , 13674.82      , 18973.09      , 17521.7505    ,\n",
       "       31361.09      , 27111.65      , 13643.34      , 12875.08017857,\n",
       "       16323.82      ,  8792.575     , 13353.96      ,  9094.73      ,\n",
       "       10391.55      , 17668.39      , 13233.02      , 23406.81      ,\n",
       "       17321.94      , 14339.39      , 23775.28      , 13528.18      ,\n",
       "        9450.53      , 18142.45831566, 18408.26      , 10387.44      ,\n",
       "       15232.82      ,  6461.09      ,  6733.43      , 15654.01      ,\n",
       "       22239.44      , 10094.44      , 11054.66      , 15957.49      ,\n",
       "       18149.58      ,  6840.62      , 21945.18      , 46443.72      ,\n",
       "       10985.96      , 16913.07      , 22311.39      , 14124.5       ,\n",
       "       28304.93      ,  9312.01      , 12653.78      , 17803.67916667,\n",
       "       11523.38      , 20025.54      , 26515.38      , 16943.89      ,\n",
       "        9956.25      , 12104.65      , 12353.16      , 10583.08      ,\n",
       "        7947.84      , 14493.9525    , 15146.57      , 15737.19      ,\n",
       "       13388.02      , 12914.26      , 16152.72      , 12637.79      ,\n",
       "       21592.89      , 12875.08017857, 10522.42      , 16529.69      ,\n",
       "       17232.53      ,  8492.07      , 20406.2       , 18126.72      ,\n",
       "       17572.07      ,  9893.61      , 12378.99      , 24677.22      ,\n",
       "        8714.        , 13056.84      ,  8381.73      ,  9764.17      ,\n",
       "       22030.78      , 18138.14      , 11432.99      , 21772.14      ,\n",
       "        7931.85      , 17512.28      , 16921.71      ,  7797.3       ,\n",
       "        7453.73      ,  8660.85      , 20245.08      , 13657.53      ,\n",
       "       17499.59      , 15760.01      , 13579.08      , 11443.11      ,\n",
       "       36214.07      , 21162.58      ,  9979.37      , 14645.73      ,\n",
       "       10353.93      , 13298.95      , 11269.97      , 11612.78      ,\n",
       "       11539.09      , 13219.22      , 27482.34      , 10958.24      ,\n",
       "        7409.3       , 13648.3688438 , 31030.86      , 19617.55      ,\n",
       "       12493.91      , 18594.4345    , 29844.84      , 20412.04      ,\n",
       "        7541.85      , 18142.45831566, 19606.88      , 12944.89      ,\n",
       "       22899.18      , 11374.11      , 11146.88      , 12523.74      ,\n",
       "       19198.59      , 13564.99      , 14682.5       , 15445.58      ,\n",
       "       12765.31      , 12629.03      , 13106.78      , 15050.61      ,\n",
       "       13602.00666667, 10550.42      , 22758.81      , 16537.28      ,\n",
       "        7403.52      , 13276.82141089, 11534.27      , 11977.45      ,\n",
       "       20116.719     , 17107.34083333, 18957.52      , 15481.72      ,\n",
       "       10812.29      , 15104.2       ,  9983.82      ,  9709.92      ,\n",
       "       26776.28      , 20180.67      , 11593.55      , 22055.83      ,\n",
       "       21276.69      , 14054.89      , 11745.51      , 18746.55      ,\n",
       "       17126.36      , 21582.18      , 12840.66      , 22996.71      ,\n",
       "       11504.21      ,  9569.99      ,  9335.64      , 13995.94      ,\n",
       "       17027.83438889, 11141.29      , 13000.04      , 18142.45831566,\n",
       "       12653.78      , 13054.75      , 12018.71      , 21536.34      ,\n",
       "       20001.18754221, 38370.91      ,  9656.07      , 18008.08      ,\n",
       "       10905.24      ,  7909.53      , 15536.86      , 10317.21      ,\n",
       "       17718.11      ,  9078.58      , 16755.34      , 11238.06      ,\n",
       "       15446.01      , 15315.05      ])"
      ]
     },
     "execution_count": 17,
     "metadata": {},
     "output_type": "execute_result"
    }
   ],
   "source": [
    "# Predicting thr value\n",
    "y_preds = model.predict(x_test)\n",
    "y_preds"
   ]
  },
  {
   "cell_type": "code",
   "execution_count": 18,
   "id": "4867365e",
   "metadata": {},
   "outputs": [],
   "source": [
    "import pickle\n",
    "pickle.dump(model, open(\"model_car_sales_price_prediction.pkl\",\"wb\"))"
   ]
  },
  {
   "cell_type": "markdown",
   "id": "a70ab3a0",
   "metadata": {},
   "source": [
    "### <center><div class=\"alert alert-info\"> * * * End * * * </div></center>"
   ]
  }
 ],
 "metadata": {
  "kernelspec": {
   "display_name": "Python 3 (ipykernel)",
   "language": "python",
   "name": "python3"
  },
  "language_info": {
   "codemirror_mode": {
    "name": "ipython",
    "version": 3
   },
   "file_extension": ".py",
   "mimetype": "text/x-python",
   "name": "python",
   "nbconvert_exporter": "python",
   "pygments_lexer": "ipython3",
   "version": "3.9.13"
  }
 },
 "nbformat": 4,
 "nbformat_minor": 5
}
